{
 "cells": [
  {
   "cell_type": "code",
   "execution_count": 14,
   "id": "6a62726a",
   "metadata": {},
   "outputs": [],
   "source": [
    "import pandas as pd\n",
    "noise_df = pd.read_csv(\"../RIRS_NOISES/noise_list.csv\")\n",
    "noise_df['wav_format'] = \"wav\""
   ]
  },
  {
   "cell_type": "code",
   "execution_count": 26,
   "id": "a5044213",
   "metadata": {},
   "outputs": [],
   "source": [
    "from speechbrain.dataio.dataio import read_audio_info\n",
    "\n",
    "ROOT_PATH = \"..\"\n",
    "\n",
    "paths = noise_df['wav'].apply(lambda x: f\"{ROOT_PATH}/{x}\")\n",
    "\n",
    "durations = []\n",
    "\n",
    "for path in paths:\n",
    "    info = read_audio_info(path)\n",
    "    duration = info.num_frames / info.sample_rate\n",
    "    durations.append(duration)\n",
    "noise_df['duration'] = durations    \n",
    "noise_df.to_csv(\"../RIRS_NOISES/noise_list_with_duration.csv\", index=False)"
   ]
  },
  {
   "cell_type": "code",
   "execution_count": null,
   "id": "067447e5",
   "metadata": {},
   "outputs": [],
   "source": []
  }
 ],
 "metadata": {
  "kernelspec": {
   "display_name": ".venv",
   "language": "python",
   "name": "python3"
  },
  "language_info": {
   "codemirror_mode": {
    "name": "ipython",
    "version": 3
   },
   "file_extension": ".py",
   "mimetype": "text/x-python",
   "name": "python",
   "nbconvert_exporter": "python",
   "pygments_lexer": "ipython3",
   "version": "3.12.5"
  }
 },
 "nbformat": 4,
 "nbformat_minor": 5
}
