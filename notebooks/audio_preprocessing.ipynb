{
 "cells": [
  {
   "cell_type": "code",
   "execution_count": null,
   "id": "e62d10a0",
   "metadata": {},
   "outputs": [],
   "source": [
    "!pip install pandas matplotlib datasets librosa soundfile evaluate datasets\n",
    "import pandas as pd\n",
    "import matplotlib.pyplot as plt"
   ]
  },
  {
   "cell_type": "code",
   "execution_count": null,
   "id": "baf8398b",
   "metadata": {},
   "outputs": [],
   "source": [
    "CSV_PATH = \"data/indian_accents.tsv\"\n",
    "OUTPUT_PATH = \"data/train_clean.csv\"\n",
    "OUTPUT_UNZIP = \"data/train_unzip.csv\"\n",
    "\n",
    "df = pd.read_csv(CSV_PATH, sep=\"\\t\")\n",
    "# Remove all columns except 'path', 'sentence', 'age', 'gender', 'accents'\n",
    "df = df[['path', 'sentence', 'age', 'gender', 'accents']]\n",
    "# Filter out rows where 'accents' is NaN or empty\n",
    "df_filtered = df[df['accents'].notna() & (df['accents'] != '') & df['gender'].notna() & df['age'].notna()]\n",
    "# Prepend 'dataset/' to the 'path' column\n",
    "df_filtered['path'] = \"dataset/\" + df_filtered['path'].astype(str)\n",
    "df_filtered.to_csv(OUTPUT_PATH, index=False)\n",
    "df_files = 'cv-corpus-21.0-2025-03-14/en/clips/' + df_filtered['path']\n",
    "df_files.to_csv(OUTPUT_UNZIP, index=False, header=False)"
   ]
  },
  {
   "cell_type": "code",
   "execution_count": null,
   "id": "27bc34b9",
   "metadata": {},
   "outputs": [],
   "source": [
    "# Chart the distribution of accents in a pie chart\n",
    "# Create a function to display the actual counts\n",
    "def make_autopct(values):\n",
    "    def my_autopct(pct):\n",
    "        total = sum(values)\n",
    "        val = int(round(pct*total/100.0))\n",
    "        return '{v:d}'.format(v=val)\n",
    "    return my_autopct\n",
    "\n",
    "top_values = 10\n",
    "\n",
    "# Create a figure with 2 rows and 2 columns of subplots\n",
    "fig, axs = plt.subplots(1,3, figsize=(30,20))\n",
    "\n",
    "# Accents distribution\n",
    "accents_value_counts = df_filtered['accents'].value_counts()\n",
    "axs[0].pie(accents_value_counts[0:top_values],              \n",
    "             autopct=make_autopct(accents_value_counts[0:top_values]), \n",
    "             startangle=120)\n",
    "axs[0].legend(accents_value_counts.index[0:top_values], loc='lower right', bbox_to_anchor=(-0.1, 0))\n",
    "axs[0].set_title(\"Distribution of Accents\")\n",
    "\n",
    "# Gender distribution\n",
    "gender_value_counts = df_filtered['gender'].value_counts()\n",
    "axs[1].pie(gender_value_counts[0:top_values],              \n",
    "              autopct=make_autopct(gender_value_counts[0:top_values]),\n",
    "              startangle=30)\n",
    "axs[1].legend(gender_value_counts.index[0:top_values], loc='lower center', bbox_to_anchor=(-0.1, 0))\n",
    "axs[1].set_title(\"Distribution of Gender\")\n",
    "\n",
    "# Age distribution\n",
    "age_value_counts = df_filtered['age'].value_counts()\n",
    "axs[2].pie(age_value_counts[0:top_values],              \n",
    "              autopct=make_autopct(age_value_counts[0:top_values]),\n",
    "              startangle=30)\n",
    "axs[2].legend(age_value_counts.index[0:top_values], loc='lower center', bbox_to_anchor=(-0.1, 0))\n",
    "axs[2].set_title(\"Distribution of Age\")\n",
    "\n",
    "plt.tight_layout()\n",
    "plt.show()"
   ]
  },
  {
   "cell_type": "code",
   "execution_count": null,
   "id": "ffe817c3",
   "metadata": {},
   "outputs": [],
   "source": [
    "CSV_PATH = \"data/train_clean.csv\"\n",
    "OUTPUT_PATH = \"data/encoding\"\n",
    "\n",
    "from datasets import load_dataset, load_from_disk, Audio\n",
    "# Load the dataset and save it in a format compatible with Hugging Face datasets\n",
    "dataset = load_dataset(\"csv\", data_files=CSV_PATH, split=\"train\")\n",
    "dataset = dataset.cast_column(\"path\", Audio(sampling_rate=16000))\n",
    "\n",
    "def load_audio(dataset):\n",
    "    return {\"path\": [x['path'] for x in dataset['path']]}\n",
    "\n",
    "dataset = dataset.map(load_audio, batched=True)\n",
    "dataset.save_to_disk(OUTPUT_PATH)"
   ]
  },
  {
   "cell_type": "code",
   "execution_count": 1,
   "id": "38e17c62",
   "metadata": {},
   "outputs": [
    {
     "name": "stderr",
     "output_type": "stream",
     "text": [
      "/Users/quangu/projects/esl-ai/.venv/lib/python3.12/site-packages/tqdm/auto.py:21: TqdmWarning: IProgress not found. Please update jupyter and ipywidgets. See https://ipywidgets.readthedocs.io/en/stable/user_install.html\n",
      "  from .autonotebook import tqdm as notebook_tqdm\n"
     ]
    },
    {
     "data": {
      "text/plain": [
       "DatasetDict({\n",
       "    train: Dataset({\n",
       "        features: ['path', 'sentence', 'age', 'gender', 'accents'],\n",
       "        num_rows: 239\n",
       "    })\n",
       "    test: Dataset({\n",
       "        features: ['path', 'sentence', 'age', 'gender', 'accents'],\n",
       "        num_rows: 60\n",
       "    })\n",
       "})"
      ]
     },
     "execution_count": 1,
     "metadata": {},
     "output_type": "execute_result"
    }
   ],
   "source": [
    "DATASET_PATH = \"data/encoding\"\n",
    "\n",
    "from datasets import load_from_disk\n",
    "dataset = load_from_disk(DATASET_PATH)\n",
    "from datasets import ClassLabel\n",
    "accent_classes = dataset.unique(\"accents\")\n",
    "accent_classes = sorted(accent_classes)\n",
    "accent_classes = ClassLabel(names=accent_classes)\n",
    "dataset = dataset.cast_column(\"accents\", accent_classes)\n",
    "dataset[0]\n",
    "dataset_split = dataset.train_test_split(test_size=0.2, seed=42)\n",
    "dataset_split"
   ]
  },
  {
   "cell_type": "code",
   "execution_count": 2,
   "id": "37b896ec",
   "metadata": {},
   "outputs": [
    {
     "data": {
      "text/plain": [
       "{'path': {'path': 'common_voice_en_19310868.mp3',\n",
       "  'array': array([ 3.27418093e-10, -8.73114914e-11,  9.45874490e-11, ...,\n",
       "         -1.25746010e-05,  7.54914945e-05,  8.74343095e-05], shape=(69120,)),\n",
       "  'sampling_rate': 16000},\n",
       " 'sentence': 'Tepoto Atoll is permanently uninhabited.',\n",
       " 'age': 'twenties',\n",
       " 'gender': 'male_masculine',\n",
       " 'accents': 0}"
      ]
     },
     "execution_count": 2,
     "metadata": {},
     "output_type": "execute_result"
    }
   ],
   "source": [
    "dataset_split[\"train\"][0]"
   ]
  },
  {
   "cell_type": "code",
   "execution_count": 3,
   "id": "598bbf32",
   "metadata": {},
   "outputs": [
    {
     "name": "stdout",
     "output_type": "stream",
     "text": [
      "{'india and south asia (india, pakistan, sri lanka)': 0}\n",
      "{0: 'india and south asia (india, pakistan, sri lanka)'}\n"
     ]
    }
   ],
   "source": [
    "labels = dataset_split[\"train\"].features[\"accents\"].names\n",
    "label2id, id2label = dict(), dict()\n",
    "for i, label in enumerate(labels):\n",
    "    label2id[label] = i\n",
    "    id2label[i] = label\n",
    "print(label2id)\n",
    "print(id2label)"
   ]
  },
  {
   "cell_type": "code",
   "execution_count": 4,
   "id": "96f523f8",
   "metadata": {},
   "outputs": [],
   "source": [
    "from transformers import AutoFeatureExtractor\n",
    "feature_extractor = AutoFeatureExtractor.from_pretrained(\"facebook/wav2vec2-base-960h\")"
   ]
  },
  {
   "cell_type": "code",
   "execution_count": 5,
   "id": "243f897c",
   "metadata": {},
   "outputs": [
    {
     "data": {
      "text/plain": [
       "DatasetDict({\n",
       "    train: Dataset({\n",
       "        features: ['sentence', 'age', 'gender', 'label', 'input_values'],\n",
       "        num_rows: 239\n",
       "    })\n",
       "    test: Dataset({\n",
       "        features: ['sentence', 'age', 'gender', 'label', 'input_values'],\n",
       "        num_rows: 60\n",
       "    })\n",
       "})"
      ]
     },
     "execution_count": 5,
     "metadata": {},
     "output_type": "execute_result"
    }
   ],
   "source": [
    "def preprocess_function(examples):    \n",
    "    audio_arrays = [x[\"array\"] for x in examples[\"path\"]]\n",
    "    inputs = feature_extractor(\n",
    "        audio_arrays,\n",
    "        sampling_rate=feature_extractor.sampling_rate,\n",
    "        max_length=16000,\n",
    "        truncation=True\n",
    "    )\n",
    "    return inputs\n",
    "\n",
    "encoded_dataset = dataset_split.map(preprocess_function, remove_columns=\"path\", batched=True)\n",
    "encoded_dataset = encoded_dataset.rename_column(\"accents\", \"label\")\n",
    "encoded_dataset[\"train\"][0]\n",
    "encoded_dataset"
   ]
  },
  {
   "cell_type": "code",
   "execution_count": 6,
   "id": "0ca193f4",
   "metadata": {},
   "outputs": [],
   "source": [
    "import evaluate\n",
    "accuracy = evaluate.load(\"accuracy\")\n",
    "import numpy as np\n",
    "def compute_metrics(eval_pred):\n",
    "    predictions = np.argmax(eval_pred.predictions, axis=1)\n",
    "    return accuracy.compute(predictions=predictions, references=eval_pred.label_ids)"
   ]
  },
  {
   "cell_type": "code",
   "execution_count": 7,
   "id": "9e699ca5",
   "metadata": {},
   "outputs": [
    {
     "name": "stderr",
     "output_type": "stream",
     "text": [
      "Some weights of Wav2Vec2ForSequenceClassification were not initialized from the model checkpoint at facebook/wav2vec2-base-960h and are newly initialized: ['classifier.bias', 'classifier.weight', 'projector.bias', 'projector.weight', 'wav2vec2.masked_spec_embed']\n",
      "You should probably TRAIN this model on a down-stream task to be able to use it for predictions and inference.\n"
     ]
    }
   ],
   "source": [
    "from transformers import AutoModelForAudioClassification, TrainingArguments, Trainer\n",
    "\n",
    "num_labels = len(id2label)\n",
    "model = AutoModelForAudioClassification.from_pretrained(\n",
    "    \"facebook/wav2vec2-base-960h\", num_labels=num_labels, label2id=label2id, id2label=id2label, ignore_mismatched_sizes=True\n",
    ")"
   ]
  },
  {
   "cell_type": "code",
   "execution_count": 8,
   "id": "5efafa4f",
   "metadata": {},
   "outputs": [
    {
     "data": {
      "text/html": [
       "\n",
       "    <div>\n",
       "      \n",
       "      <progress value='20' max='20' style='width:300px; height:20px; vertical-align: middle;'></progress>\n",
       "      [20/20 02:25, Epoch 10/10]\n",
       "    </div>\n",
       "    <table border=\"1\" class=\"dataframe\">\n",
       "  <thead>\n",
       " <tr style=\"text-align: left;\">\n",
       "      <th>Epoch</th>\n",
       "      <th>Training Loss</th>\n",
       "      <th>Validation Loss</th>\n",
       "      <th>Accuracy</th>\n",
       "    </tr>\n",
       "  </thead>\n",
       "  <tbody>\n",
       "    <tr>\n",
       "      <td>1</td>\n",
       "      <td>No log</td>\n",
       "      <td>nan</td>\n",
       "      <td>1.000000</td>\n",
       "    </tr>\n",
       "    <tr>\n",
       "      <td>2</td>\n",
       "      <td>No log</td>\n",
       "      <td>nan</td>\n",
       "      <td>1.000000</td>\n",
       "    </tr>\n",
       "    <tr>\n",
       "      <td>3</td>\n",
       "      <td>No log</td>\n",
       "      <td>nan</td>\n",
       "      <td>1.000000</td>\n",
       "    </tr>\n",
       "    <tr>\n",
       "      <td>4</td>\n",
       "      <td>No log</td>\n",
       "      <td>nan</td>\n",
       "      <td>1.000000</td>\n",
       "    </tr>\n",
       "    <tr>\n",
       "      <td>5</td>\n",
       "      <td>0.000000</td>\n",
       "      <td>nan</td>\n",
       "      <td>1.000000</td>\n",
       "    </tr>\n",
       "    <tr>\n",
       "      <td>6</td>\n",
       "      <td>0.000000</td>\n",
       "      <td>nan</td>\n",
       "      <td>1.000000</td>\n",
       "    </tr>\n",
       "    <tr>\n",
       "      <td>7</td>\n",
       "      <td>0.000000</td>\n",
       "      <td>nan</td>\n",
       "      <td>1.000000</td>\n",
       "    </tr>\n",
       "    <tr>\n",
       "      <td>8</td>\n",
       "      <td>0.000000</td>\n",
       "      <td>nan</td>\n",
       "      <td>1.000000</td>\n",
       "    </tr>\n",
       "    <tr>\n",
       "      <td>9</td>\n",
       "      <td>0.000000</td>\n",
       "      <td>nan</td>\n",
       "      <td>1.000000</td>\n",
       "    </tr>\n",
       "    <tr>\n",
       "      <td>10</td>\n",
       "      <td>0.000000</td>\n",
       "      <td>nan</td>\n",
       "      <td>1.000000</td>\n",
       "    </tr>\n",
       "  </tbody>\n",
       "</table><p>"
      ],
      "text/plain": [
       "<IPython.core.display.HTML object>"
      ]
     },
     "metadata": {},
     "output_type": "display_data"
    },
    {
     "data": {
      "text/plain": [
       "TrainOutput(global_step=20, training_loss=0.0, metrics={'train_runtime': 149.5289, 'train_samples_per_second': 15.984, 'train_steps_per_second': 0.134, 'total_flos': 2.169787304352e+16, 'train_loss': 0.0, 'epoch': 10.0})"
      ]
     },
     "execution_count": 8,
     "metadata": {},
     "output_type": "execute_result"
    }
   ],
   "source": [
    "training_args = TrainingArguments(\n",
    "    output_dir=\"mms-lid-256-indian-accents\",\n",
    "    eval_strategy=\"epoch\",\n",
    "    save_strategy=\"epoch\",\n",
    "    learning_rate=3e-5,\n",
    "    per_device_train_batch_size=32,\n",
    "    gradient_accumulation_steps=4,\n",
    "    per_device_eval_batch_size=32,\n",
    "    num_train_epochs=10,\n",
    "    warmup_ratio=0.1,\n",
    "    logging_steps=10,\n",
    "    load_best_model_at_end=True,\n",
    "    metric_for_best_model=\"accuracy\",\n",
    "    push_to_hub=False,\n",
    ")\n",
    "\n",
    "trainer = Trainer(\n",
    "    model=model,\n",
    "    args=training_args,\n",
    "    train_dataset=encoded_dataset[\"train\"],\n",
    "    eval_dataset=encoded_dataset[\"test\"],\n",
    "    processing_class=feature_extractor,\n",
    "    compute_metrics=compute_metrics,\n",
    ")\n",
    "\n",
    "trainer.train()"
   ]
  },
  {
   "cell_type": "code",
   "execution_count": null,
   "id": "05342a20",
   "metadata": {},
   "outputs": [],
   "source": []
  }
 ],
 "metadata": {
  "kernelspec": {
   "display_name": ".venv",
   "language": "python",
   "name": "python3"
  },
  "language_info": {
   "codemirror_mode": {
    "name": "ipython",
    "version": 3
   },
   "file_extension": ".py",
   "mimetype": "text/x-python",
   "name": "python",
   "nbconvert_exporter": "python",
   "pygments_lexer": "ipython3",
   "version": "3.12.5"
  }
 },
 "nbformat": 4,
 "nbformat_minor": 5
}
