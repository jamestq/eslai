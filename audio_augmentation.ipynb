{
 "cells": [
  {
   "cell_type": "code",
   "execution_count": 68,
   "id": "c877e1f8",
   "metadata": {},
   "outputs": [
    {
     "name": "stderr",
     "output_type": "stream",
     "text": [
      "  0%|          | 0/7623 [00:00<?, ?it/s]"
     ]
    },
    {
     "name": "stderr",
     "output_type": "stream",
     "text": [
      "100%|██████████| 7623/7623 [01:34<00:00, 80.60it/s]\n"
     ]
    }
   ],
   "source": [
    "from speechbrain.dataio.dataio import read_audio, write_audio\n",
    "import torch\n",
    "from glob import glob\n",
    "from speechbrain.augment.time_domain import AddNoise\n",
    "from tqdm import tqdm\n",
    "\n",
    "noisifier = AddNoise(\"RIRS_NOISES/noise_list_with_duration.csv\", snr_low=0, snr_high=15)\n",
    "\n",
    "for audio_file in tqdm(glob(\"accent_recognition/audio_files_treated/*.mp3\")):\n",
    "    audio = read_audio(audio_file)\n",
    "    original_audio = Audio(audio, rate=48000)  # Assuming you want to process each audio file similarl\n",
    "    noisy_audio = noisifier(audio.unsqueeze(0), torch.ones(1))\n",
    "    noisy_path = audio_file.replace(\".mp3\", \"_noisy.mp3\").replace(\"accent_recognition/audio_files_treated\", \"accent_recognition/noisy_audio\")\n",
    "    write_audio(noisy_path, noisy_audio.squeeze(0), 48000)    \n",
    "    # Save or process the noisy audio as needed\n",
    "    # e.g., save to a new file or append to a list for further processing"
   ]
  },
  {
   "cell_type": "code",
   "execution_count": 74,
   "id": "d90d0201",
   "metadata": {},
   "outputs": [],
   "source": [
    "import pandas as pd\n",
    "\n",
    "train_df = pd.read_csv(\"accent_recognition/accent_train.tsv\", sep=\"\\t\")\n",
    "test_df = pd.read_csv(\"accent_recognition/accent_test.tsv\", sep=\"\\t\")"
   ]
  },
  {
   "cell_type": "code",
   "execution_count": null,
   "id": "c2edd0cc",
   "metadata": {},
   "outputs": [
    {
     "data": {
      "text/html": [
       "<div>\n",
       "<style scoped>\n",
       "    .dataframe tbody tr th:only-of-type {\n",
       "        vertical-align: middle;\n",
       "    }\n",
       "\n",
       "    .dataframe tbody tr th {\n",
       "        vertical-align: top;\n",
       "    }\n",
       "\n",
       "    .dataframe thead th {\n",
       "        text-align: right;\n",
       "    }\n",
       "</style>\n",
       "<table border=\"1\" class=\"dataframe\">\n",
       "  <thead>\n",
       "    <tr style=\"text-align: right;\">\n",
       "      <th></th>\n",
       "      <th>client_id</th>\n",
       "      <th>sentence_id</th>\n",
       "      <th>path</th>\n",
       "      <th>sentence</th>\n",
       "      <th>age</th>\n",
       "      <th>gender</th>\n",
       "      <th>reduced_accents</th>\n",
       "    </tr>\n",
       "  </thead>\n",
       "  <tbody>\n",
       "    <tr>\n",
       "      <th>673</th>\n",
       "      <td>7275df3ab29386b68c10c396e31ed2476d1e25de0ac979...</td>\n",
       "      <td>031ab8f4d0504c08c6d5582d8aec15d1e8dbdf5981b2e8...</td>\n",
       "      <td>common_voice_en_37281002.mp3</td>\n",
       "      <td>Your Bardic Inspiration die changes when you r...</td>\n",
       "      <td>thirties</td>\n",
       "      <td>male_masculine</td>\n",
       "      <td>North American</td>\n",
       "    </tr>\n",
       "    <tr>\n",
       "      <th>134</th>\n",
       "      <td>5506a0ac6b862d5ba2cb1b1f0bb4a388444ef7b1d87221...</td>\n",
       "      <td>cc841cb323de95557cfd3d48446b8aeebedaa87bc190e9...</td>\n",
       "      <td>common_voice_en_36955863.mp3</td>\n",
       "      <td>‘An awful Sunday,’ commenced the paragraph ben...</td>\n",
       "      <td>twenties</td>\n",
       "      <td>male_masculine</td>\n",
       "      <td>African</td>\n",
       "    </tr>\n",
       "    <tr>\n",
       "      <th>1360</th>\n",
       "      <td>5506a0ac6b862d5ba2cb1b1f0bb4a388444ef7b1d87221...</td>\n",
       "      <td>cc841cb323de95557cfd3d48446b8aeebedaa87bc190e9...</td>\n",
       "      <td>common_voice_en_36955863_noisy.mp3</td>\n",
       "      <td>‘An awful Sunday,’ commenced the paragraph ben...</td>\n",
       "      <td>twenties</td>\n",
       "      <td>male_masculine</td>\n",
       "      <td>African</td>\n",
       "    </tr>\n",
       "    <tr>\n",
       "      <th>2411</th>\n",
       "      <td>5ea73f02537215e9a8cb7be3d997d9574e72d85f082fb9...</td>\n",
       "      <td>5c63f223563400d318faf7c42f4423043707f2df7b2c45...</td>\n",
       "      <td>common_voice_en_22267156_noisy.mp3</td>\n",
       "      <td>‘This is insufferable!’ he exclaimed.</td>\n",
       "      <td>twenties</td>\n",
       "      <td>female_feminine</td>\n",
       "      <td>South Asian</td>\n",
       "    </tr>\n",
       "    <tr>\n",
       "      <th>1185</th>\n",
       "      <td>5ea73f02537215e9a8cb7be3d997d9574e72d85f082fb9...</td>\n",
       "      <td>5c63f223563400d318faf7c42f4423043707f2df7b2c45...</td>\n",
       "      <td>common_voice_en_22267156.mp3</td>\n",
       "      <td>‘This is insufferable!’ he exclaimed.</td>\n",
       "      <td>twenties</td>\n",
       "      <td>female_feminine</td>\n",
       "      <td>South Asian</td>\n",
       "    </tr>\n",
       "  </tbody>\n",
       "</table>\n",
       "</div>"
      ],
      "text/plain": [
       "                                              client_id  \\\n",
       "673   7275df3ab29386b68c10c396e31ed2476d1e25de0ac979...   \n",
       "134   5506a0ac6b862d5ba2cb1b1f0bb4a388444ef7b1d87221...   \n",
       "1360  5506a0ac6b862d5ba2cb1b1f0bb4a388444ef7b1d87221...   \n",
       "2411  5ea73f02537215e9a8cb7be3d997d9574e72d85f082fb9...   \n",
       "1185  5ea73f02537215e9a8cb7be3d997d9574e72d85f082fb9...   \n",
       "\n",
       "                                            sentence_id  \\\n",
       "673   031ab8f4d0504c08c6d5582d8aec15d1e8dbdf5981b2e8...   \n",
       "134   cc841cb323de95557cfd3d48446b8aeebedaa87bc190e9...   \n",
       "1360  cc841cb323de95557cfd3d48446b8aeebedaa87bc190e9...   \n",
       "2411  5c63f223563400d318faf7c42f4423043707f2df7b2c45...   \n",
       "1185  5c63f223563400d318faf7c42f4423043707f2df7b2c45...   \n",
       "\n",
       "                                    path  \\\n",
       "673         common_voice_en_37281002.mp3   \n",
       "134         common_voice_en_36955863.mp3   \n",
       "1360  common_voice_en_36955863_noisy.mp3   \n",
       "2411  common_voice_en_22267156_noisy.mp3   \n",
       "1185        common_voice_en_22267156.mp3   \n",
       "\n",
       "                                               sentence       age  \\\n",
       "673   Your Bardic Inspiration die changes when you r...  thirties   \n",
       "134   ‘An awful Sunday,’ commenced the paragraph ben...  twenties   \n",
       "1360  ‘An awful Sunday,’ commenced the paragraph ben...  twenties   \n",
       "2411              ‘This is insufferable!’ he exclaimed.  twenties   \n",
       "1185              ‘This is insufferable!’ he exclaimed.  twenties   \n",
       "\n",
       "               gender reduced_accents  \n",
       "673    male_masculine  North American  \n",
       "134    male_masculine         African  \n",
       "1360   male_masculine         African  \n",
       "2411  female_feminine     South Asian  \n",
       "1185  female_feminine     South Asian  "
      ]
     },
     "execution_count": 87,
     "metadata": {},
     "output_type": "execute_result"
    }
   ],
   "source": [
    "train_df_noisy = train_df.copy()\n",
    "test_df_noisy = test_df.copy()\n",
    "train_df_noisy['client_id'] = train_df_noisy['client_id'].apply(lambda x: x + \"_noisy\")\n",
    "test_df_noisy['client_id'] = test_df_noisy['client_id'].apply(lambda x: x + \"_noisy\")\n",
    "train_df_noisy['sentence_id'] = train_df_noisy['sentence_id'].apply(lambda x: x + \"_noisy\")\n",
    "test_df_noisy['sentence_id'] = test_df_noisy['sentence_id'].apply(lambda x: x + \"_noisy\")\n",
    "train_df_noisy['path'] = train_df_noisy['path'].apply(lambda x: x.replace(\".mp3\", \"_noisy.mp3\"))\n",
    "test_df_noisy['path'] = test_df_noisy['path'].apply(lambda x: x.replace(\".mp3\", \"_noisy.mp3\"))\n",
    "new_train_df = pd.concat([train_df, train_df_noisy], ignore_index=True)\n",
    "new_train_df.sort_values(by=['sentence'], inplace=True)\n",
    "new_train_df.tail()\n",
    "new_test_df = pd.concat([test_df, test_df_noisy], ignore_index=True)\n",
    "new_test_df.sort_values(by=['sentence'], inplace=True)\n",
    "new_test_df.tail()\n",
    "\n",
    "new_train_df.to_csv(\"accent_recognition/accent_train_noisy.tsv\", sep=\"\\t\", index=False)\n",
    "new_test_df.to_csv(\"accent_recognition/accent_test_noisy.tsv\", sep=\"\\t\", index=False)"
   ]
  },
  {
   "cell_type": "code",
   "execution_count": 1,
   "id": "3a8365ba",
   "metadata": {},
   "outputs": [],
   "source": [
    "import pandas as pd"
   ]
  },
  {
   "cell_type": "code",
   "execution_count": 4,
   "id": "e79cb5fb",
   "metadata": {},
   "outputs": [],
   "source": [
    "train_df = pd.read_csv(\"accent_train_noisy.tsv\", sep=\"\\t\")"
   ]
  },
  {
   "cell_type": "code",
   "execution_count": 6,
   "id": "7d7982e5",
   "metadata": {},
   "outputs": [],
   "source": [
    "train_split = train_df.sample(frac=0.8, random_state=42)"
   ]
  },
  {
   "cell_type": "code",
   "execution_count": 12,
   "id": "c853b756",
   "metadata": {},
   "outputs": [
    {
     "data": {
      "text/plain": [
       "52"
      ]
     },
     "execution_count": 12,
     "metadata": {},
     "output_type": "execute_result"
    }
   ],
   "source": [
    "len(train_split) // (32*4)"
   ]
  },
  {
   "cell_type": "code",
   "execution_count": null,
   "id": "0cee9ed9",
   "metadata": {},
   "outputs": [],
   "source": []
  }
 ],
 "metadata": {
  "kernelspec": {
   "display_name": "eslai-py3.12",
   "language": "python",
   "name": "python3"
  },
  "language_info": {
   "codemirror_mode": {
    "name": "ipython",
    "version": 3
   },
   "file_extension": ".py",
   "mimetype": "text/x-python",
   "name": "python",
   "nbconvert_exporter": "python",
   "pygments_lexer": "ipython3",
   "version": "3.12.8"
  }
 },
 "nbformat": 4,
 "nbformat_minor": 5
}
